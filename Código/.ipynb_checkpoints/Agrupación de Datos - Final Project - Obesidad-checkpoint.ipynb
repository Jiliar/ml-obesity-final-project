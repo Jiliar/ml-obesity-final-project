{
 "cells": [
  {
   "cell_type": "markdown",
   "id": "10c3b12b-0d3e-4888-bf47-0790b738a177",
   "metadata": {},
   "source": [
    "<img src = \"https://universidadean.edu.co/sites/default/files/noticias/galeria/Logo-Universidad-Ean-fondo-negro-Galeria_1.jpg\" alt = \"Encabezado MLDS\" width = \"30%\">  </img>"
   ]
  },
  {
   "cell_type": "markdown",
   "id": "f50eddaf-938d-4723-8666-294b658ec21b",
   "metadata": {},
   "source": [
    "### **⚛️ A. Titulo: Proyecto 3 – Agrupación de datos sobre obesidad**"
   ]
  },
  {
   "cell_type": "markdown",
   "id": "24f0cb18-4d7c-4def-8b8a-d1bf793b4a71",
   "metadata": {},
   "source": [
    "### **⚛️ B. Integrantes**\n",
    "Jiliar Antonio Silgado Cardona"
   ]
  },
  {
   "cell_type": "markdown",
   "id": "b4d5eb96-cb09-46f9-b597-e641459e9a4f",
   "metadata": {},
   "source": [
    "#### **⭕️ Introducción** "
   ]
  },
  {
   "cell_type": "markdown",
   "id": "b63b2e1c-4d0a-47a0-aa1f-77bddb517fa0",
   "metadata": {},
   "source": [
    "En la actualidad, la obesidad se ha convertido en un problema de salud pública significativo en varios países de América Latina, incluido México, Perú y Colombia. Evaluar los niveles de obesidad de manera precisa es fundamental tanto para los profesionales de la salud como para las instituciones que buscan implementar políticas de prevención efectivas. Este desafío se complica por la variedad de hábitos alimenticios y condiciones físicas que influyen en el estado de salud de los individuos. Mediante el uso de modelos de machine learning y análisis de datos, es posible identificar patrones en los hábitos de alimentación y las condiciones físicas que afectan los niveles de obesidad. Este enfoque permite desarrollar modelos de clasificación supervisada que predicen el nivel de obesidad a partir de 17 atributos relevantes, optimizando así el proceso de evaluación y apoyando decisiones informadas. Los registros, que incluyen clasificaciones como Peso Insuficiente, Peso Normal, Sobrepeso Nivel I, Sobrepeso Nivel II, Obesidad Tipo I, Obesidad Tipo II y Obesidad Tipo III, se alimentan en un 77% de datos generados sintéticamente y un 23% de datos recopilados directamente de los usuarios a través de una plataforma web. Este enfoque no solo mejora la precisión en la estimación de los niveles de obesidad, sino que también proporciona una base sólida para la intervención y la investigación en salud pública."
   ]
  },
  {
   "cell_type": "markdown",
   "id": "d69e8d5e-f9a0-432b-9ef6-cdf30a68fc25",
   "metadata": {},
   "source": [
    "#### **⭕️ Núcleo Problémico**"
   ]
  },
  {
   "cell_type": "markdown",
   "id": "cb17ce3e-0834-4320-9442-909e792539ce",
   "metadata": {},
   "source": [
    "Ante el creciente problema de obesidad en México, Perú y Colombia, las autoridades sanitarias se ven en la necesidad de implementar estrategias efectivas para clasificar y abordar los diferentes niveles de obesidad en la población. Sin embargo, la ausencia de un sistema de evaluación basado en datos precisos y objetivos dificulta la identificación de los individuos en riesgo y la formulación de intervenciones adecuadas. La dependencia de criterios subjetivos en la clasificación de niveles como Peso Insuficiente, Peso Normal y distintos grados de Obesidad puede resultar en una asignación ineficaz de recursos y en la falta de programas de prevención adaptados a las necesidades específicas de la población. Es fundamental analizar cómo las variables relacionadas con los hábitos alimenticios y el estado físico se correlacionan con la obesidad para poder desarrollar modelos de clasificación precisos. Sin un enfoque basado en datos, las decisiones tomadas pueden carecer de fundamento y no abordar eficazmente el problema de salud pública, afectando tanto la calidad de vida de los individuos como la eficacia de las políticas de salud implementadas."
   ]
  },
  {
   "cell_type": "markdown",
   "id": "7387d364-1e93-4691-ae6f-b96fcd50f923",
   "metadata": {},
   "source": [
    "#### **⭕️ Pregunta Problemica** "
   ]
  },
  {
   "cell_type": "markdown",
   "id": "61fa9efe-2bdb-43c2-b051-dd5086d7b668",
   "metadata": {},
   "source": [
    "¿Puede un modelo de aprendizaje automático basado en los hábitos alimenticios y las condiciones físicas mejorar la clasificación de los niveles de obesidad, proporcionando una evaluación más objetiva y precisa que beneficie la salud pública y optimice la asignación de recursos en programas de prevención?"
   ]
  },
  {
   "cell_type": "markdown",
   "id": "cf76a4e3-72cc-4de5-b1b8-ac9497f43486",
   "metadata": {},
   "source": [
    "#### **⭕️ Metodología** "
   ]
  },
  {
   "cell_type": "markdown",
   "id": "a7088c58-4c91-4984-8e03-6662315267b4",
   "metadata": {},
   "source": [
    "La metodología para el análisis de agrupamientos en la base de datos de obesidad comienza con la recolección y preprocesamiento de datos, asegurando la limpieza y normalización de las variables cuantitativas. Se fija una semilla para garantizar la reproducibilidad de los resultados y se determina el número óptimo de agrupamientos utilizando métodos como el Método del Codo y la Silhouette Score. Se implementan técnicas de reducción de dimensionalidad, como PCA o t-SNE, para facilitar la visualización de los agrupamientos en un plano cartesiano. A través de diversas visualizaciones, se evalúan y comparan los modelos de agrupamiento, analizando métricas de cohesión y separación. Finalmente, se selecciona el modelo más efectivo y se justifica su elección en función de su rendimiento y aplicabilidad en el contexto de salud pública, con la posibilidad de reentrenar el modelo para mejorar los resultados."
   ]
  },
  {
   "cell_type": "markdown",
   "id": "09fe6df3-be04-4de8-8bd6-45e2ad3753e5",
   "metadata": {},
   "source": [
    "### **🔍 1. Exploración de los datos**\n",
    "#### **⭕️ Introducción a la Fase de Exploración de Datos**\n",
    "\n",
    "En esta fase inicial del análisis de datos, se realiza una exploración preliminar del conjunto de datos para comprender su estructura y características básicas. Esta etapa es crucial para identificar los aspectos fundamentales del dataset y preparar el terreno para un análisis más profundo.\n",
    "\n",
    "Durante la exploración, se utilizan diversas instrucciones para obtener una visión general del conjunto de datos:\n",
    "\n",
    "- **`df.info()`**: Proporciona un resumen conciso de la información del DataFrame, incluyendo el número de entradas no nulas y los tipos de datos de cada columna.\n",
    "- **`print(df.shape)`**: Muestra las dimensiones del DataFrame, es decir, el número de filas y columnas.\n",
    "- **`print(df.head())`**: Muestra las primeras filas del DataFrame, facilitando una vista rápida de los datos.\n",
    "- **`print(df.tail())`**: Muestra las últimas filas del DataFrame, útil para verificar el final del dataset.\n",
    "- **`print(total_size)`**: Indica el tamaño total del DataFrame en términos de número de filas.\n",
    "- **`print(df.shape)`**: Indica la dimensión del Dataframe (filas, columnas).\n",
    "- **`print(df.memory_usage(deep=True))`**: Proporciona el uso de memoria por columna, permitiendo identificar el consumo de recursos.\n",
    "- **`print(df.columns)`**: Lista los nombres de todas las columnas e\n",
    "- **`df.describe()`**: Ver generalidades estadisticas del grupo de datos.n el DataFrame.\n",
    "\n",
    "Estas instrucciones ofrecen una visión general del conjunto de datos, ayudando a detectar posibles problemas como datos faltantes, tipos de datos incorrectos o inconsistencias. Esta exploración es un primer paso esencial para un análiquipos tecnológicos."
   ]
  },
  {
   "cell_type": "markdown",
   "id": "ab932596-3e38-408a-be3a-c4f81048acf7",
   "metadata": {},
   "source": [
    "### **⭕️ Entendimiento de los datos**\n",
    "\n",
    "La base de datos a utilizar se denomina ObesityDataSet_raw_and_data_sinthetic.csv. Esta contiene información sobre los niveles de obesidad en individuos de México, Perú y Colombia, y se centra en sus hábitos alimenticios y condiciones físicas. El conjunto de datos incluye 17 atributos que abarcan variables cuantitativas y categóricas, como el índice de masa corporal (IMC), nivel de actividad física, consumo de alimentos específicos y variables sociodemográficas. Además, se cuenta con una variable de clase denominada NObesity, que clasifica a los individuos en categorías como Peso Insuficiente, Peso Normal, Sobrepeso y diferentes niveles de Obesidad (Tipo I, Tipo II y Tipo III). Esta base es esencial para analizar y modelar la relación entre los hábitos alimenticios, el estado físico y los niveles de obesidad, facilitando el desarrollo de modelos de aprendizaje automático que pueden contribuir a la salud pública y la prevención de enfermedades relacionadas con la obesidad."
   ]
  },
  {
   "cell_type": "markdown",
   "id": "a207929b-4555-4929-b7a3-78c56f2e1ee4",
   "metadata": {},
   "source": [
    "| Variable                             | Definición                                    | Descripción                                                                                     | Valores                                        | Tipo de Variable     |\n",
    "|--------------------------------------|----------------------------------------------|-------------------------------------------------------------------------------------------------|-----------------------------------------------|----------------------|\n",
    "| Gender                               | Género                                       | Identifica el género del individuo.                                                            | Male, Female                                  | Categórica           |\n",
    "| Age                                  | Edad                                         | Edad del individuo en años.                                                                     | Valores numéricos (por ejemplo, 18-70)       | Cuantitativa         |\n",
    "| Height                               | Altura                                       | Altura del individuo en centímetros.                                                            | Valores numéricos (por ejemplo, 140-200)     | Cuantitativa         |\n",
    "| Weight                               | Peso                                         | Peso del individuo en kilogramos.                                                                | Valores numéricos (por ejemplo, 40-150)      | Cuantitativa         |\n",
    "| family_history_with_overweight      | Historia familiar de sobrepeso               | Indica si hay antecedentes familiares de sobrepeso.                                            | Yes, No                                       | Categórica           |\n",
    "| FAVC                                 | Consumo de alimentos fuera de casa          | Indica si el individuo consume alimentos fuera de casa.                                         | Yes, No                                       | Categórica           |\n",
    "| FCVC                                 | Frecuencia de consumo de verduras           | Frecuencia con la que se consumen verduras en la dieta.                                       | Valores numéricos (por ejemplo, 0-7)         | Cuantitativa         |\n",
    "| NCP                                  | Número de comidas por día                   | Número de comidas que realiza el individuo al día.                                             | Valores numéricos (por ejemplo, 1-7)         | Cuantitativa         |\n",
    "| CAEC                                 | Consumo de comida rápida                     | Indica si el individuo consume comida rápida.                                                  | Yes, No                                       | Categórica           |\n",
    "| SMOKE                                | Fumador                                      | Indica si el individuo fuma.                                                                    | Yes, No                                       | Categórica           |\n",
    "| CH2O                                 | Consumo de agua                              | Cantidad de agua que consume el individuo en litros.                                           | Valores numéricos (por ejemplo, 0-5)         | Cuantitativa         |\n",
    "| SCC                                  | Consumo de snacks                            | Indica si el individuo consume snacks.                                                          | Yes, No                                       | Categórica           |\n",
    "| FAF                                  | Actividad física                             | Frecuencia de actividad física.                                                                  | Valores numéricos (por ejemplo, 0-7)         | Cuantitativa         |\n",
    "| TUE                                  | Tiempo dedicado a actividades sedentarias    | Tiempo dedicado a actividades sedentarias.                                                      | Valores numéricos (por ejemplo, 0-24)        | Cuantitativa         |\n",
    "| CALC                                 | Consumo calórico                            | Consumo total de calorías por día.                                                              | Valores numéricos (por ejemplo, 1000-5000)   | Cuantitativa         |\n",
    "| MTRANS                               | Método de transporte                          | Modo de transporte utilizado por el individuo.                                                 | Car, Bicycle, Walking, etc.                  | Categórica           |\n",
    "| NObeyesdad                          | Nivel de obesidad                            | Clasificación del nivel de obesidad del individuo.                                             | Insufficient Weight, Normal Weight, Overweight Level I, Overweight Level II, Obesity Type I, Obesity Type II, Obesity Type III | Categórica           |\n"
   ]
  },
  {
   "cell_type": "code",
   "execution_count": 1,
   "id": "6d1be59f-4a28-4db2-912e-559af738baf5",
   "metadata": {},
   "outputs": [],
   "source": [
    "# Cargar librerías necesarias para análisis y visualización de datos\n",
    "import seaborn as sns  # Para visualización de datos en gráficos\n",
    "import pandas as pd    # Para manipulación de datos utilizando estructuras tipo DataFrame\n",
    "import numpy as np     # Para operaciones numéricas y manejo de arreglos y matrices\n",
    "import matplotlib.pyplot as plt  # Para crear gráficos en 2D y visualizar datos\n",
    "import json            # Para manipular diccionarios y trabajar con datos en formato JSON\n",
    "\n",
    "# Importar algoritmos de clustering para análisis de agrupamiento\n",
    "from sklearn.cluster import KMeans, AgglomerativeClustering, DBSCAN  # Algoritmos de clustering: K-Means, Jerárquico y DBSCAN\n",
    "from sklearn.preprocessing import StandardScaler  # Para normalizar las características de los datos antes de aplicar clustering\n",
    "\n",
    "# Importar métricas para evaluar la calidad de los clusters\n",
    "from sklearn.metrics import silhouette_score, pairwise_distances_argmin_min  # Calcular el coeficiente de silueta y encontrar los puntos más cercanos al centro del cluster\n",
    "\n",
    "# Importar GaussianMixture para aplicar el modelo de mezclas gaussianas (GMM) en clustering\n",
    "from sklearn.mixture import GaussianMixture  # Algoritmo GaussianMixture para modelar datos que siguen distribuciones gaussianas\n",
    "\n",
    "# Importar t-SNE para reducción de dimensionalidad en visualización de datos de alta dimensión\n",
    "from sklearn.manifold import TSNE  # Para reducir dimensionalidad y visualizar datos en 2D o 3D\n",
    "\n",
    "# Importar PCA para reducción de dimensionalidad en datos de alta dimensión\n",
    "from sklearn.decomposition import PCA  # Para transformar datos a componentes principales con menor dimensión\n",
    "\n",
    "# Importar funciones para serializar y cargar modelos grandes o complejos\n",
    "from joblib import dump, load  # Para guardar (dump) y cargar (load) modelos de machine learning y grandes volúmenes de datos\n",
    "\n",
    "# Ignorar advertencias innecesarias para mejorar legibilidad en las salidas\n",
    "import warnings\n",
    "warnings.filterwarnings(\"ignore\")  # Desactivar advertencias para evitar mensajes no esenciales en el análisis"
   ]
  },
  {
   "cell_type": "code",
   "execution_count": 2,
   "id": "0a76311b-1d13-40bf-b642-3d0c7c43c383",
   "metadata": {},
   "outputs": [],
   "source": [
    "#Lectura de origen de datos:\n",
    "df = pd.read_csv('../Datos/ObesityDataSet_raw_and_data_sinthetic.csv')"
   ]
  },
  {
   "cell_type": "code",
   "execution_count": 3,
   "id": "3f7f39a0-f48c-463d-91c5-d8f32aeb04e5",
   "metadata": {},
   "outputs": [
    {
     "name": "stdout",
     "output_type": "stream",
     "text": [
      "Información general del DataFrame:\n",
      "\n",
      "<class 'pandas.core.frame.DataFrame'>\n",
      "RangeIndex: 2111 entries, 0 to 2110\n",
      "Data columns (total 17 columns):\n",
      " #   Column                          Non-Null Count  Dtype  \n",
      "---  ------                          --------------  -----  \n",
      " 0   Gender                          2111 non-null   object \n",
      " 1   Age                             2111 non-null   float64\n",
      " 2   Height                          2111 non-null   float64\n",
      " 3   Weight                          2111 non-null   float64\n",
      " 4   family_history_with_overweight  2111 non-null   object \n",
      " 5   FAVC                            2111 non-null   object \n",
      " 6   FCVC                            2111 non-null   float64\n",
      " 7   NCP                             2111 non-null   float64\n",
      " 8   CAEC                            2111 non-null   object \n",
      " 9   SMOKE                           2111 non-null   object \n",
      " 10  CH2O                            2111 non-null   float64\n",
      " 11  SCC                             2111 non-null   object \n",
      " 12  FAF                             2111 non-null   float64\n",
      " 13  TUE                             2111 non-null   float64\n",
      " 14  CALC                            2111 non-null   object \n",
      " 15  MTRANS                          2111 non-null   object \n",
      " 16  NObeyesdad                      2111 non-null   object \n",
      "dtypes: float64(8), object(9)\n",
      "memory usage: 280.5+ KB\n",
      "\n",
      " Memoria utilizada por el DataFrame (bytes):\n",
      "\n",
      "Index                                132\n",
      "Gender                            113969\n",
      "Age                                16888\n",
      "Height                             16888\n",
      "Weight                             16888\n",
      "family_history_with_overweight    109387\n",
      "FAVC                              109527\n",
      "FCVC                               16888\n",
      "NCP                                16888\n",
      "CAEC                              122164\n",
      "SMOKE                             107705\n",
      "CH2O                               16888\n",
      "SCC                               107757\n",
      "FAF                                16888\n",
      "TUE                                16888\n",
      "CALC                              118032\n",
      "MTRANS                            141708\n",
      "NObeyesdad                        137621\n",
      "dtype: int64\n"
     ]
    }
   ],
   "source": [
    "# Información de Dataframe\n",
    "print(\"Información general del DataFrame:\\n\")\n",
    "df.info()\n",
    "\n",
    "# mostrar el tamaño de la memoria utilizada por el DataFrame\n",
    "print(\"\\n Memoria utilizada por el DataFrame (bytes):\\n\")\n",
    "print(df.memory_usage(deep=True))"
   ]
  },
  {
   "cell_type": "markdown",
   "id": "4e438d38-99f6-4ef9-9e42-da16ece4f575",
   "metadata": {},
   "source": [
    "### **⭕️ Diccionario de datos**\n",
    "\n",
    "Este diccionario de datos ofrece una descripción exhaustiva de las columnas del dataframe obtenido del archivo **`ObesityDataSet_raw_and_data_sinthetic.csv`**. Cada columna se detalla con su tipo de dato, proporcionando una breve explicación de lo que representa cada variable en relación con los hábitos alimenticios y condiciones físicas de los individuos analizados. Además, se incluye información sobre el tamaño en bytes ocupado por cada tipo de dato, lo que permite comprender mejor el espacio de almacenamiento requerido para el conjunto de datos.\n",
    "\n",
    "El objetivo de este diccionario es facilitar la comprensión de la estructura del conjunto de datos, ayudando en el análisis y la manipulación de la información, así como en la implementación de modelos de aprendizaje automático para la clasificación de niveles de obesidad. Con una clara representación de las variables, se busca optimizar la interpretación de los resultados y las conclusiones derivadas del análisis."
   ]
  },
  {
   "cell_type": "markdown",
   "id": "b7f7ab80-b9f7-4f1f-b405-808775c93271",
   "metadata": {},
   "source": [
    "| Column                             | Dtype     | Description Dtype | Tamaño en Bytes | Tamaño en MB | Descripción                                                            |\n",
    "|------------------------------------|-----------|-------------------|------------------|---------------|------------------------------------------------------------------------|\n",
    "| Gender                             | object    | Texto             | 113969           | 0.11          | Género del individuo.                                                  |\n",
    "| Age                                | float64   | Número decimal     | 16888            | 0.02          | Edad del individuo en años.                                           |\n",
    "| Height                             | float64   | Número decimal     | 16888            | 0.02          | Altura del individuo en centímetros.                                   |\n",
    "| Weight                             | float64   | Número decimal     | 16888            | 0.02          | Peso del individuo en kilogramos.                                     |\n",
    "| family_history_with_overweight    | object    | Texto             | 109387           | 0.10          | Indica si hay antecedentes familiares de sobrepeso.                   |\n",
    "| FAVC                               | object    | Texto             | 109527           | 0.10          | Indica si el individuo consume alimentos fuera de casa.               |\n",
    "| FCVC                               | float64   | Número decimal     | 16888            | 0.02          | Frecuencia de consumo de verduras.                                     |\n",
    "| NCP                                | float64   | Número decimal     | 16888            | 0.02          | Número de comidas que realiza el individuo al día.                    |\n",
    "| CAEC                               | object    | Texto             | 122164           | 0.12          | Indica si el individuo consume comida rápida.                         |\n",
    "| SMOKE                              | object    | Texto             | 107705           | 0.10          | Indica si el individuo fuma.                                          |\n",
    "| CH2O                               | float64   | Número decimal     | 16888            | 0.02          | Cantidad de agua consumida en litros.                                 |\n",
    "| SCC                                | object    | Texto             | 107757           | 0.10          | Indica si el individuo consume snacks.                                 |\n",
    "| FAF                                | float64   | Número decimal     | 16888            | 0.02          | Frecuencia de actividad física.                                       |\n",
    "| TUE                                | float64   | Número decimal     | 16888            | 0.02          | Tiempo dedicado a actividades sedentarias en horas.                   |\n",
    "| CALC                               | object    | Texto             | 118032           | 0.11          | Consumo total de calorías por día.                                    |\n",
    "| MTRANS                             | object    | Texto             | 141708           | 0.13          | Método de transporte utilizado por el individuo.                      |\n",
    "| NObeyesdad                        | object    | Texto             | 137621           | 0.13          | Clasificación del nivel de obesidad del individuo.                    |\n"
   ]
  },
  {
   "cell_type": "markdown",
   "id": "19366808-de8a-4b49-b588-1f42a8914890",
   "metadata": {},
   "source": [
    "### **⭕️ Dimensiones del Dataframe (Filas x Columnas)**"
   ]
  },
  {
   "cell_type": "code",
   "execution_count": 4,
   "id": "cf4996b3-d9fa-4ced-928a-348686d4d27b",
   "metadata": {},
   "outputs": [
    {
     "name": "stdout",
     "output_type": "stream",
     "text": [
      "Forma de Dataframe Consolidado de Vinos: (2111, 17)\n"
     ]
    }
   ],
   "source": [
    "#Forma del dataframe\n",
    "print(f'Forma de Dataframe Consolidado de Vinos: {df.shape}')"
   ]
  },
  {
   "cell_type": "markdown",
   "id": "fff2261f-97ea-42a9-bf12-2095b5869582",
   "metadata": {},
   "source": [
    "#### **⭕️ Primeras filas del DataFrame**"
   ]
  },
  {
   "cell_type": "code",
   "execution_count": 5,
   "id": "03639b8d-3493-466c-b98c-9b4ff17bd506",
   "metadata": {},
   "outputs": [
    {
     "data": {
      "text/html": [
       "<div>\n",
       "<style scoped>\n",
       "    .dataframe tbody tr th:only-of-type {\n",
       "        vertical-align: middle;\n",
       "    }\n",
       "\n",
       "    .dataframe tbody tr th {\n",
       "        vertical-align: top;\n",
       "    }\n",
       "\n",
       "    .dataframe thead th {\n",
       "        text-align: right;\n",
       "    }\n",
       "</style>\n",
       "<table border=\"1\" class=\"dataframe\">\n",
       "  <thead>\n",
       "    <tr style=\"text-align: right;\">\n",
       "      <th></th>\n",
       "      <th>Gender</th>\n",
       "      <th>Age</th>\n",
       "      <th>Height</th>\n",
       "      <th>Weight</th>\n",
       "      <th>family_history_with_overweight</th>\n",
       "      <th>FAVC</th>\n",
       "      <th>FCVC</th>\n",
       "      <th>NCP</th>\n",
       "      <th>CAEC</th>\n",
       "      <th>SMOKE</th>\n",
       "      <th>CH2O</th>\n",
       "      <th>SCC</th>\n",
       "      <th>FAF</th>\n",
       "      <th>TUE</th>\n",
       "      <th>CALC</th>\n",
       "      <th>MTRANS</th>\n",
       "      <th>NObeyesdad</th>\n",
       "    </tr>\n",
       "  </thead>\n",
       "  <tbody>\n",
       "    <tr>\n",
       "      <th>0</th>\n",
       "      <td>Female</td>\n",
       "      <td>21.0</td>\n",
       "      <td>1.62</td>\n",
       "      <td>64.0</td>\n",
       "      <td>yes</td>\n",
       "      <td>no</td>\n",
       "      <td>2.0</td>\n",
       "      <td>3.0</td>\n",
       "      <td>Sometimes</td>\n",
       "      <td>no</td>\n",
       "      <td>2.0</td>\n",
       "      <td>no</td>\n",
       "      <td>0.0</td>\n",
       "      <td>1.0</td>\n",
       "      <td>no</td>\n",
       "      <td>Public_Transportation</td>\n",
       "      <td>Normal_Weight</td>\n",
       "    </tr>\n",
       "    <tr>\n",
       "      <th>1</th>\n",
       "      <td>Female</td>\n",
       "      <td>21.0</td>\n",
       "      <td>1.52</td>\n",
       "      <td>56.0</td>\n",
       "      <td>yes</td>\n",
       "      <td>no</td>\n",
       "      <td>3.0</td>\n",
       "      <td>3.0</td>\n",
       "      <td>Sometimes</td>\n",
       "      <td>yes</td>\n",
       "      <td>3.0</td>\n",
       "      <td>yes</td>\n",
       "      <td>3.0</td>\n",
       "      <td>0.0</td>\n",
       "      <td>Sometimes</td>\n",
       "      <td>Public_Transportation</td>\n",
       "      <td>Normal_Weight</td>\n",
       "    </tr>\n",
       "    <tr>\n",
       "      <th>2</th>\n",
       "      <td>Male</td>\n",
       "      <td>23.0</td>\n",
       "      <td>1.80</td>\n",
       "      <td>77.0</td>\n",
       "      <td>yes</td>\n",
       "      <td>no</td>\n",
       "      <td>2.0</td>\n",
       "      <td>3.0</td>\n",
       "      <td>Sometimes</td>\n",
       "      <td>no</td>\n",
       "      <td>2.0</td>\n",
       "      <td>no</td>\n",
       "      <td>2.0</td>\n",
       "      <td>1.0</td>\n",
       "      <td>Frequently</td>\n",
       "      <td>Public_Transportation</td>\n",
       "      <td>Normal_Weight</td>\n",
       "    </tr>\n",
       "    <tr>\n",
       "      <th>3</th>\n",
       "      <td>Male</td>\n",
       "      <td>27.0</td>\n",
       "      <td>1.80</td>\n",
       "      <td>87.0</td>\n",
       "      <td>no</td>\n",
       "      <td>no</td>\n",
       "      <td>3.0</td>\n",
       "      <td>3.0</td>\n",
       "      <td>Sometimes</td>\n",
       "      <td>no</td>\n",
       "      <td>2.0</td>\n",
       "      <td>no</td>\n",
       "      <td>2.0</td>\n",
       "      <td>0.0</td>\n",
       "      <td>Frequently</td>\n",
       "      <td>Walking</td>\n",
       "      <td>Overweight_Level_I</td>\n",
       "    </tr>\n",
       "    <tr>\n",
       "      <th>4</th>\n",
       "      <td>Male</td>\n",
       "      <td>22.0</td>\n",
       "      <td>1.78</td>\n",
       "      <td>89.8</td>\n",
       "      <td>no</td>\n",
       "      <td>no</td>\n",
       "      <td>2.0</td>\n",
       "      <td>1.0</td>\n",
       "      <td>Sometimes</td>\n",
       "      <td>no</td>\n",
       "      <td>2.0</td>\n",
       "      <td>no</td>\n",
       "      <td>0.0</td>\n",
       "      <td>0.0</td>\n",
       "      <td>Sometimes</td>\n",
       "      <td>Public_Transportation</td>\n",
       "      <td>Overweight_Level_II</td>\n",
       "    </tr>\n",
       "  </tbody>\n",
       "</table>\n",
       "</div>"
      ],
      "text/plain": [
       "   Gender   Age  Height  Weight family_history_with_overweight FAVC  FCVC  \\\n",
       "0  Female  21.0    1.62    64.0                            yes   no   2.0   \n",
       "1  Female  21.0    1.52    56.0                            yes   no   3.0   \n",
       "2    Male  23.0    1.80    77.0                            yes   no   2.0   \n",
       "3    Male  27.0    1.80    87.0                             no   no   3.0   \n",
       "4    Male  22.0    1.78    89.8                             no   no   2.0   \n",
       "\n",
       "   NCP       CAEC SMOKE  CH2O  SCC  FAF  TUE        CALC  \\\n",
       "0  3.0  Sometimes    no   2.0   no  0.0  1.0          no   \n",
       "1  3.0  Sometimes   yes   3.0  yes  3.0  0.0   Sometimes   \n",
       "2  3.0  Sometimes    no   2.0   no  2.0  1.0  Frequently   \n",
       "3  3.0  Sometimes    no   2.0   no  2.0  0.0  Frequently   \n",
       "4  1.0  Sometimes    no   2.0   no  0.0  0.0   Sometimes   \n",
       "\n",
       "                  MTRANS           NObeyesdad  \n",
       "0  Public_Transportation        Normal_Weight  \n",
       "1  Public_Transportation        Normal_Weight  \n",
       "2  Public_Transportation        Normal_Weight  \n",
       "3                Walking   Overweight_Level_I  \n",
       "4  Public_Transportation  Overweight_Level_II  "
      ]
     },
     "execution_count": 5,
     "metadata": {},
     "output_type": "execute_result"
    }
   ],
   "source": [
    "df.head()"
   ]
  },
  {
   "cell_type": "markdown",
   "id": "e091f21c-4503-4596-af06-1f390f40bbb8",
   "metadata": {},
   "source": [
    "#### **⭕️ Últimas filas del DataFrame**"
   ]
  },
  {
   "cell_type": "code",
   "execution_count": 6,
   "id": "085d7096-1bbb-47e5-894d-062488e3ac64",
   "metadata": {},
   "outputs": [
    {
     "data": {
      "text/html": [
       "<div>\n",
       "<style scoped>\n",
       "    .dataframe tbody tr th:only-of-type {\n",
       "        vertical-align: middle;\n",
       "    }\n",
       "\n",
       "    .dataframe tbody tr th {\n",
       "        vertical-align: top;\n",
       "    }\n",
       "\n",
       "    .dataframe thead th {\n",
       "        text-align: right;\n",
       "    }\n",
       "</style>\n",
       "<table border=\"1\" class=\"dataframe\">\n",
       "  <thead>\n",
       "    <tr style=\"text-align: right;\">\n",
       "      <th></th>\n",
       "      <th>Gender</th>\n",
       "      <th>Age</th>\n",
       "      <th>Height</th>\n",
       "      <th>Weight</th>\n",
       "      <th>family_history_with_overweight</th>\n",
       "      <th>FAVC</th>\n",
       "      <th>FCVC</th>\n",
       "      <th>NCP</th>\n",
       "      <th>CAEC</th>\n",
       "      <th>SMOKE</th>\n",
       "      <th>CH2O</th>\n",
       "      <th>SCC</th>\n",
       "      <th>FAF</th>\n",
       "      <th>TUE</th>\n",
       "      <th>CALC</th>\n",
       "      <th>MTRANS</th>\n",
       "      <th>NObeyesdad</th>\n",
       "    </tr>\n",
       "  </thead>\n",
       "  <tbody>\n",
       "    <tr>\n",
       "      <th>2106</th>\n",
       "      <td>Female</td>\n",
       "      <td>20.976842</td>\n",
       "      <td>1.710730</td>\n",
       "      <td>131.408528</td>\n",
       "      <td>yes</td>\n",
       "      <td>yes</td>\n",
       "      <td>3.0</td>\n",
       "      <td>3.0</td>\n",
       "      <td>Sometimes</td>\n",
       "      <td>no</td>\n",
       "      <td>1.728139</td>\n",
       "      <td>no</td>\n",
       "      <td>1.676269</td>\n",
       "      <td>0.906247</td>\n",
       "      <td>Sometimes</td>\n",
       "      <td>Public_Transportation</td>\n",
       "      <td>Obesity_Type_III</td>\n",
       "    </tr>\n",
       "    <tr>\n",
       "      <th>2107</th>\n",
       "      <td>Female</td>\n",
       "      <td>21.982942</td>\n",
       "      <td>1.748584</td>\n",
       "      <td>133.742943</td>\n",
       "      <td>yes</td>\n",
       "      <td>yes</td>\n",
       "      <td>3.0</td>\n",
       "      <td>3.0</td>\n",
       "      <td>Sometimes</td>\n",
       "      <td>no</td>\n",
       "      <td>2.005130</td>\n",
       "      <td>no</td>\n",
       "      <td>1.341390</td>\n",
       "      <td>0.599270</td>\n",
       "      <td>Sometimes</td>\n",
       "      <td>Public_Transportation</td>\n",
       "      <td>Obesity_Type_III</td>\n",
       "    </tr>\n",
       "    <tr>\n",
       "      <th>2108</th>\n",
       "      <td>Female</td>\n",
       "      <td>22.524036</td>\n",
       "      <td>1.752206</td>\n",
       "      <td>133.689352</td>\n",
       "      <td>yes</td>\n",
       "      <td>yes</td>\n",
       "      <td>3.0</td>\n",
       "      <td>3.0</td>\n",
       "      <td>Sometimes</td>\n",
       "      <td>no</td>\n",
       "      <td>2.054193</td>\n",
       "      <td>no</td>\n",
       "      <td>1.414209</td>\n",
       "      <td>0.646288</td>\n",
       "      <td>Sometimes</td>\n",
       "      <td>Public_Transportation</td>\n",
       "      <td>Obesity_Type_III</td>\n",
       "    </tr>\n",
       "    <tr>\n",
       "      <th>2109</th>\n",
       "      <td>Female</td>\n",
       "      <td>24.361936</td>\n",
       "      <td>1.739450</td>\n",
       "      <td>133.346641</td>\n",
       "      <td>yes</td>\n",
       "      <td>yes</td>\n",
       "      <td>3.0</td>\n",
       "      <td>3.0</td>\n",
       "      <td>Sometimes</td>\n",
       "      <td>no</td>\n",
       "      <td>2.852339</td>\n",
       "      <td>no</td>\n",
       "      <td>1.139107</td>\n",
       "      <td>0.586035</td>\n",
       "      <td>Sometimes</td>\n",
       "      <td>Public_Transportation</td>\n",
       "      <td>Obesity_Type_III</td>\n",
       "    </tr>\n",
       "    <tr>\n",
       "      <th>2110</th>\n",
       "      <td>Female</td>\n",
       "      <td>23.664709</td>\n",
       "      <td>1.738836</td>\n",
       "      <td>133.472641</td>\n",
       "      <td>yes</td>\n",
       "      <td>yes</td>\n",
       "      <td>3.0</td>\n",
       "      <td>3.0</td>\n",
       "      <td>Sometimes</td>\n",
       "      <td>no</td>\n",
       "      <td>2.863513</td>\n",
       "      <td>no</td>\n",
       "      <td>1.026452</td>\n",
       "      <td>0.714137</td>\n",
       "      <td>Sometimes</td>\n",
       "      <td>Public_Transportation</td>\n",
       "      <td>Obesity_Type_III</td>\n",
       "    </tr>\n",
       "  </tbody>\n",
       "</table>\n",
       "</div>"
      ],
      "text/plain": [
       "      Gender        Age    Height      Weight family_history_with_overweight  \\\n",
       "2106  Female  20.976842  1.710730  131.408528                            yes   \n",
       "2107  Female  21.982942  1.748584  133.742943                            yes   \n",
       "2108  Female  22.524036  1.752206  133.689352                            yes   \n",
       "2109  Female  24.361936  1.739450  133.346641                            yes   \n",
       "2110  Female  23.664709  1.738836  133.472641                            yes   \n",
       "\n",
       "     FAVC  FCVC  NCP       CAEC SMOKE      CH2O SCC       FAF       TUE  \\\n",
       "2106  yes   3.0  3.0  Sometimes    no  1.728139  no  1.676269  0.906247   \n",
       "2107  yes   3.0  3.0  Sometimes    no  2.005130  no  1.341390  0.599270   \n",
       "2108  yes   3.0  3.0  Sometimes    no  2.054193  no  1.414209  0.646288   \n",
       "2109  yes   3.0  3.0  Sometimes    no  2.852339  no  1.139107  0.586035   \n",
       "2110  yes   3.0  3.0  Sometimes    no  2.863513  no  1.026452  0.714137   \n",
       "\n",
       "           CALC                 MTRANS        NObeyesdad  \n",
       "2106  Sometimes  Public_Transportation  Obesity_Type_III  \n",
       "2107  Sometimes  Public_Transportation  Obesity_Type_III  \n",
       "2108  Sometimes  Public_Transportation  Obesity_Type_III  \n",
       "2109  Sometimes  Public_Transportation  Obesity_Type_III  \n",
       "2110  Sometimes  Public_Transportation  Obesity_Type_III  "
      ]
     },
     "execution_count": 6,
     "metadata": {},
     "output_type": "execute_result"
    }
   ],
   "source": [
    "# ultimos registros\n",
    "df.tail()"
   ]
  },
  {
   "cell_type": "markdown",
   "id": "54435445-b968-495d-a9c4-5e684342772a",
   "metadata": {},
   "source": [
    "#### **⭕️ Tamaño total del DataFrame en términos de número de filas**"
   ]
  },
  {
   "cell_type": "code",
   "execution_count": 7,
   "id": "d8ac5a4b-3d42-46f1-9168-a01f786ddb44",
   "metadata": {},
   "outputs": [
    {
     "name": "stdout",
     "output_type": "stream",
     "text": [
      "Tamaño (Número de Filas): 2111\n"
     ]
    }
   ],
   "source": [
    "# total de registros\n",
    "total_size = len(df)\n",
    "print(f'Tamaño (Número de Filas): {total_size}')"
   ]
  },
  {
   "cell_type": "markdown",
   "id": "e08ba212-63f8-4878-a741-7e91dbe59a07",
   "metadata": {},
   "source": [
    "#### **⭕️ Columnas (Variables) en Dataframe**"
   ]
  },
  {
   "cell_type": "code",
   "execution_count": 8,
   "id": "eea95c46-7732-47d8-b933-24513ba7e780",
   "metadata": {},
   "outputs": [
    {
     "name": "stdout",
     "output_type": "stream",
     "text": [
      "\n",
      "Nombres de las columnas:\n",
      "Index(['Gender', 'Age', 'Height', 'Weight', 'family_history_with_overweight',\n",
      "       'FAVC', 'FCVC', 'NCP', 'CAEC', 'SMOKE', 'CH2O', 'SCC', 'FAF', 'TUE',\n",
      "       'CALC', 'MTRANS', 'NObeyesdad'],\n",
      "      dtype='object')\n"
     ]
    }
   ],
   "source": [
    "# nombres de las columnas\n",
    "print(\"\\nNombres de las columnas:\")\n",
    "print(df.columns)"
   ]
  },
  {
   "cell_type": "markdown",
   "id": "8323f95f-4d89-4c78-8b86-458fe21ac4d1",
   "metadata": {},
   "source": [
    "#### **⭕️ Número Total de Variables**"
   ]
  },
  {
   "cell_type": "code",
   "execution_count": 9,
   "id": "ceac574b-a228-4119-af7e-09f867debb13",
   "metadata": {},
   "outputs": [
    {
     "name": "stdout",
     "output_type": "stream",
     "text": [
      "Número de variables (columnas): 17\n"
     ]
    }
   ],
   "source": [
    "# Número total de variables que contiene la base de datos.\n",
    "num_columnas = df.shape[1]\n",
    "print(f'Número de variables (columnas): {num_columnas}')"
   ]
  },
  {
   "cell_type": "markdown",
   "id": "03fe5487-4211-48a5-8503-1472699f768c",
   "metadata": {},
   "source": [
    "#### **⭕️ Variables con datos faltantes, Porcentaje total de valores faltantes en la base de datos.**"
   ]
  },
  {
   "cell_type": "code",
   "execution_count": 10,
   "id": "2cfe5336-4115-4fd2-925c-b2a91f475679",
   "metadata": {},
   "outputs": [
    {
     "name": "stdout",
     "output_type": "stream",
     "text": [
      "\n",
      "Cant. valores faltantes por columna:\n",
      "{}\n",
      "\n",
      "% valores faltantes por columna:\n",
      "{}\n",
      "\n",
      "Porcentaje total de valores faltantes en la base de datos: 0.00%\n",
      "Porcentaje total de valores en la base de datos: 100.00%\n"
     ]
    }
   ],
   "source": [
    "import json\n",
    "\n",
    "def valores_faltantes_por_columna(df):\n",
    "    # Escribir las variables que tienen datos faltantes, además, proporcionar el porcentaje total de valores faltantes en la base de datos.\n",
    "    # Paso 1: Encontrar columnas con valores faltantes\n",
    "    faltantes_por_columna = df.isnull().sum()\n",
    "    \n",
    "    # Paso 2: Filtrar columnas que tienen valores faltantes\n",
    "    data1 = faltantes_por_columna[faltantes_por_columna > 0]\n",
    "    variables_con_faltantes = data1.to_dict()\n",
    "    \n",
    "    print('\\nCant. valores faltantes por columna:',\n",
    "          json.dumps(variables_con_faltantes, indent=4),\n",
    "          sep=\"\\n\")\n",
    "    \n",
    "    # Paso 3: Calcular el porcentaje de valores faltantes por columna\n",
    "    data = (data1 / len(df)) * 100\n",
    "    data = data.to_dict()\n",
    "    porcentaje_faltantes_por_columna = {key: f'{value:.2f}%' for key, value in data.items()}\n",
    "    \n",
    "    # Paso 4: Calcular el porcentaje total de valores faltantes en el DataFrame\n",
    "    porcentaje_total_faltantes = (df.isnull().sum().sum() / df.size) * 100\n",
    "    porcentaje_total_no_faltantes = (df.notnull().sum().sum() / df.size) * 100\n",
    "    \n",
    "    # Resultados\n",
    "    print('\\n% valores faltantes por columna:', f'{json.dumps(porcentaje_faltantes_por_columna, indent=4)}', sep=\"\\n\")\n",
    "    \n",
    "    print(f\"\\nPorcentaje total de valores faltantes en la base de datos: {porcentaje_total_faltantes:.2f}%\")\n",
    "    print(f\"Porcentaje total de valores en la base de datos: {porcentaje_total_no_faltantes:.2f}%\")\n",
    "\n",
    "valores_faltantes_por_columna(df)"
   ]
  },
  {
   "cell_type": "markdown",
   "id": "76bf0dc8-b171-4041-b259-8c4891ace946",
   "metadata": {},
   "source": [
    "#### **⭕️ Información estadistica del DataFrame**"
   ]
  },
  {
   "cell_type": "code",
   "execution_count": 14,
   "id": "186246fd-d8f9-4680-ab2a-ea168e74edae",
   "metadata": {},
   "outputs": [
    {
     "data": {
      "text/html": [
       "<div>\n",
       "<style scoped>\n",
       "    .dataframe tbody tr th:only-of-type {\n",
       "        vertical-align: middle;\n",
       "    }\n",
       "\n",
       "    .dataframe tbody tr th {\n",
       "        vertical-align: top;\n",
       "    }\n",
       "\n",
       "    .dataframe thead th {\n",
       "        text-align: right;\n",
       "    }\n",
       "</style>\n",
       "<table border=\"1\" class=\"dataframe\">\n",
       "  <thead>\n",
       "    <tr style=\"text-align: right;\">\n",
       "      <th></th>\n",
       "      <th>Age</th>\n",
       "      <th>Height</th>\n",
       "      <th>Weight</th>\n",
       "      <th>FCVC</th>\n",
       "      <th>NCP</th>\n",
       "      <th>CH2O</th>\n",
       "      <th>FAF</th>\n",
       "      <th>TUE</th>\n",
       "    </tr>\n",
       "  </thead>\n",
       "  <tbody>\n",
       "    <tr>\n",
       "      <th>count</th>\n",
       "      <td>2111.000000</td>\n",
       "      <td>2111.000000</td>\n",
       "      <td>2111.000000</td>\n",
       "      <td>2111.000000</td>\n",
       "      <td>2111.000000</td>\n",
       "      <td>2111.000000</td>\n",
       "      <td>2111.000000</td>\n",
       "      <td>2111.000000</td>\n",
       "    </tr>\n",
       "    <tr>\n",
       "      <th>mean</th>\n",
       "      <td>24.312600</td>\n",
       "      <td>1.701677</td>\n",
       "      <td>86.586058</td>\n",
       "      <td>2.419043</td>\n",
       "      <td>2.685628</td>\n",
       "      <td>2.008011</td>\n",
       "      <td>1.010298</td>\n",
       "      <td>0.657866</td>\n",
       "    </tr>\n",
       "    <tr>\n",
       "      <th>std</th>\n",
       "      <td>6.345968</td>\n",
       "      <td>0.093305</td>\n",
       "      <td>26.191172</td>\n",
       "      <td>0.533927</td>\n",
       "      <td>0.778039</td>\n",
       "      <td>0.612953</td>\n",
       "      <td>0.850592</td>\n",
       "      <td>0.608927</td>\n",
       "    </tr>\n",
       "    <tr>\n",
       "      <th>min</th>\n",
       "      <td>14.000000</td>\n",
       "      <td>1.450000</td>\n",
       "      <td>39.000000</td>\n",
       "      <td>1.000000</td>\n",
       "      <td>1.000000</td>\n",
       "      <td>1.000000</td>\n",
       "      <td>0.000000</td>\n",
       "      <td>0.000000</td>\n",
       "    </tr>\n",
       "    <tr>\n",
       "      <th>25%</th>\n",
       "      <td>19.947192</td>\n",
       "      <td>1.630000</td>\n",
       "      <td>65.473343</td>\n",
       "      <td>2.000000</td>\n",
       "      <td>2.658738</td>\n",
       "      <td>1.584812</td>\n",
       "      <td>0.124505</td>\n",
       "      <td>0.000000</td>\n",
       "    </tr>\n",
       "    <tr>\n",
       "      <th>50%</th>\n",
       "      <td>22.777890</td>\n",
       "      <td>1.700499</td>\n",
       "      <td>83.000000</td>\n",
       "      <td>2.385502</td>\n",
       "      <td>3.000000</td>\n",
       "      <td>2.000000</td>\n",
       "      <td>1.000000</td>\n",
       "      <td>0.625350</td>\n",
       "    </tr>\n",
       "    <tr>\n",
       "      <th>75%</th>\n",
       "      <td>26.000000</td>\n",
       "      <td>1.768464</td>\n",
       "      <td>107.430682</td>\n",
       "      <td>3.000000</td>\n",
       "      <td>3.000000</td>\n",
       "      <td>2.477420</td>\n",
       "      <td>1.666678</td>\n",
       "      <td>1.000000</td>\n",
       "    </tr>\n",
       "    <tr>\n",
       "      <th>max</th>\n",
       "      <td>61.000000</td>\n",
       "      <td>1.980000</td>\n",
       "      <td>173.000000</td>\n",
       "      <td>3.000000</td>\n",
       "      <td>4.000000</td>\n",
       "      <td>3.000000</td>\n",
       "      <td>3.000000</td>\n",
       "      <td>2.000000</td>\n",
       "    </tr>\n",
       "  </tbody>\n",
       "</table>\n",
       "</div>"
      ],
      "text/plain": [
       "               Age       Height       Weight         FCVC          NCP  \\\n",
       "count  2111.000000  2111.000000  2111.000000  2111.000000  2111.000000   \n",
       "mean     24.312600     1.701677    86.586058     2.419043     2.685628   \n",
       "std       6.345968     0.093305    26.191172     0.533927     0.778039   \n",
       "min      14.000000     1.450000    39.000000     1.000000     1.000000   \n",
       "25%      19.947192     1.630000    65.473343     2.000000     2.658738   \n",
       "50%      22.777890     1.700499    83.000000     2.385502     3.000000   \n",
       "75%      26.000000     1.768464   107.430682     3.000000     3.000000   \n",
       "max      61.000000     1.980000   173.000000     3.000000     4.000000   \n",
       "\n",
       "              CH2O          FAF          TUE  \n",
       "count  2111.000000  2111.000000  2111.000000  \n",
       "mean      2.008011     1.010298     0.657866  \n",
       "std       0.612953     0.850592     0.608927  \n",
       "min       1.000000     0.000000     0.000000  \n",
       "25%       1.584812     0.124505     0.000000  \n",
       "50%       2.000000     1.000000     0.625350  \n",
       "75%       2.477420     1.666678     1.000000  \n",
       "max       3.000000     3.000000     2.000000  "
      ]
     },
     "execution_count": 14,
     "metadata": {},
     "output_type": "execute_result"
    }
   ],
   "source": [
    "df.describe()"
   ]
  },
  {
   "cell_type": "markdown",
   "id": "314560c8-0076-4b50-87bc-5e2983963ee0",
   "metadata": {},
   "source": [
    "#### **⭕️ Conteo por nivel de obesidad del individuo.**"
   ]
  },
  {
   "cell_type": "code",
   "execution_count": 15,
   "id": "c2367a42-e334-48ca-91f0-a49b3963665e",
   "metadata": {},
   "outputs": [
    {
     "data": {
      "text/plain": [
       "NObeyesdad\n",
       "Obesity_Type_I         351\n",
       "Obesity_Type_III       324\n",
       "Obesity_Type_II        297\n",
       "Overweight_Level_I     290\n",
       "Overweight_Level_II    290\n",
       "Normal_Weight          287\n",
       "Insufficient_Weight    272\n",
       "Name: count, dtype: int64"
      ]
     },
     "execution_count": 15,
     "metadata": {},
     "output_type": "execute_result"
    }
   ],
   "source": [
    "df['NObeyesdad'].value_counts()"
   ]
  },
  {
   "cell_type": "markdown",
   "id": "912861f9-2c3d-450e-afed-cb4c3cdaaefa",
   "metadata": {},
   "source": [
    "#### **⭕️ Clasificación de variables en cualitativas y numéricas.**"
   ]
  },
  {
   "cell_type": "code",
   "execution_count": 17,
   "id": "0bd32316-5658-4fc1-b332-088a31157772",
   "metadata": {},
   "outputs": [
    {
     "name": "stdout",
     "output_type": "stream",
     "text": [
      "\n",
      "Variables numéricas:\n",
      "['Age', 'Height', 'Weight', 'FCVC', 'NCP', 'CH2O', 'FAF', 'TUE']\n",
      "\n",
      "Variables cualitativas:\n",
      "['Gender', 'family_history_with_overweight', 'FAVC', 'CAEC', 'SMOKE', 'SCC', 'CALC', 'MTRANS', 'NObeyesdad']\n"
     ]
    }
   ],
   "source": [
    "# Clasificar las variables numéricas y cualitativas en el DataFrame df\n",
    "# Seleccionar las columnas que son de tipo numérico (int64 y float64)\n",
    "variables_numericas = df.select_dtypes(include=['int64', 'float64']).columns.tolist()\n",
    "\n",
    "# Seleccionar las columnas que son de tipo cualitativo (object, category o boolean)\n",
    "variables_cualitativas = df.select_dtypes(include=['object', 'category', 'bool']).columns.tolist()\n",
    "\n",
    "# Imprimir las variables numéricas encontradas en el DataFrame\n",
    "print(\"\\nVariables numéricas:\", variables_numericas, sep=\"\\n\")\n",
    "\n",
    "# Imprimir las variables cualitativas encontradas en el DataFrame\n",
    "print(\"\\nVariables cualitativas:\", variables_cualitativas, sep=\"\\n\")"
   ]
  },
  {
   "cell_type": "markdown",
   "id": "cc0dcf00-23fe-4496-b9e5-730a8d542915",
   "metadata": {},
   "source": [
    "### **⚛️ Exploración No Supervisada**"
   ]
  },
  {
   "cell_type": "markdown",
   "id": "cb909098-f92e-4879-9e71-aed8c45ff3f6",
   "metadata": {},
   "source": [
    "#### **⭕️ Reducción de Dimensionalidad**"
   ]
  },
  {
   "cell_type": "markdown",
   "id": "28f17f03-8187-4255-9c81-f48a1fb91509",
   "metadata": {},
   "source": [
    "#### **⭕️ Definición de Clústeres**"
   ]
  },
  {
   "cell_type": "markdown",
   "id": "1eafe744-268e-4549-b18c-c58c658b97fe",
   "metadata": {},
   "source": [
    "#### **⭕️ Contraste con la Variable Objetivo**"
   ]
  },
  {
   "cell_type": "markdown",
   "id": "d5d3e681-b4a2-4ed1-89cb-01f6ca931493",
   "metadata": {},
   "source": [
    "### **⚛️ Entrenamiento del Modelo Supervisado**"
   ]
  },
  {
   "cell_type": "markdown",
   "id": "f2ece017-f34d-45dd-894a-4b9f818317f3",
   "metadata": {},
   "source": [
    "#### **⭕️ Selección del Modelo**"
   ]
  },
  {
   "cell_type": "markdown",
   "id": "89a3eb58-007d-42e2-9341-b130fc778b4c",
   "metadata": {},
   "source": [
    "#### **⭕️ Reentrenamiento con Clústeres**"
   ]
  },
  {
   "cell_type": "markdown",
   "id": "df8bc2f3-6eff-4e41-968f-ef7b567c4d3a",
   "metadata": {},
   "source": [
    "#### **⭕️ Optimización**"
   ]
  },
  {
   "cell_type": "markdown",
   "id": "f14cfc30-ec05-4a70-9749-dd7a46da3a26",
   "metadata": {},
   "source": [
    "### **⚛️ Visualización y Análisis**"
   ]
  },
  {
   "cell_type": "markdown",
   "id": "7404bd38-0d64-4c54-960c-760d2db8ca02",
   "metadata": {},
   "source": [
    "#### **⭕️ Visualización de Resultados de Clústeres**"
   ]
  },
  {
   "cell_type": "markdown",
   "id": "9be9a3db-86e6-46ac-9d96-aa451b1cabdb",
   "metadata": {},
   "source": [
    "#### **⭕️ Análisis de Interpretabilidad**"
   ]
  },
  {
   "cell_type": "markdown",
   "id": "831cfa41-5f32-4886-89f0-4a903a4fa983",
   "metadata": {},
   "source": [
    "#### **⭕️ Visualización del Modelo Optimizado**"
   ]
  },
  {
   "cell_type": "code",
   "execution_count": null,
   "id": "d95569dd-61ca-410b-bc7e-c907b2e76f7e",
   "metadata": {},
   "outputs": [],
   "source": []
  }
 ],
 "metadata": {
  "kernelspec": {
   "display_name": "Python 3 (ipykernel)",
   "language": "python",
   "name": "python3"
  },
  "language_info": {
   "codemirror_mode": {
    "name": "ipython",
    "version": 3
   },
   "file_extension": ".py",
   "mimetype": "text/x-python",
   "name": "python",
   "nbconvert_exporter": "python",
   "pygments_lexer": "ipython3",
   "version": "3.12.4"
  }
 },
 "nbformat": 4,
 "nbformat_minor": 5
}
